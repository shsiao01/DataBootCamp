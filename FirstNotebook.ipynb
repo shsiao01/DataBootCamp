{
 "cells": [
  {
   "cell_type": "code",
   "execution_count": 25,
   "metadata": {
    "collapsed": true
   },
   "outputs": [],
   "source": [
    "import pandas as p\n",
    "names = ['Pooja', 'Alexa', 'Derek','Mary']\n",
    "grades = [92, 99, 100, 94]\n",
    "city = ['Chicago', 'New York', 'Gaithersburg','Albany']\n",
    "age = [45,20,30,47]\n",
    "gender = ['Male' ,'Female','Male','Female']\n",
    "gradelist = list(zip(names, grades,age, gender, city))\n",
    "df = p.DataFrame(data = gradelist, columns=['Names', 'Grades','Age','Gender','Origin'])"
   ]
  },
  {
   "cell_type": "code",
   "execution_count": 26,
   "metadata": {},
   "outputs": [
    {
     "name": "stdout",
     "output_type": "stream",
     "text": [
      "   Names  Grades  Age  Gender        Origin\n",
      "0  Pooja      92   45    Male       Chicago\n",
      "1  Alexa      99   20  Female      New York\n",
      "2  Derek     100   30    Male  Gaithersburg\n",
      "3   Mary      94   47  Female        Albany\n"
     ]
    }
   ],
   "source": [
    "print (df)"
   ]
  },
  {
   "cell_type": "code",
   "execution_count": 27,
   "metadata": {},
   "outputs": [
    {
     "name": "stdout",
     "output_type": "stream",
     "text": [
      "   Names  Grades  Age Gender   Origin\n",
      "0  Pooja      92   45   Male  Chicago\n"
     ]
    }
   ],
   "source": [
    "print (df.head(1))"
   ]
  },
  {
   "cell_type": "code",
   "execution_count": 29,
   "metadata": {},
   "outputs": [
    {
     "data": {
      "text/plain": [
       "0      Male\n",
       "1    Female\n",
       "2      Male\n",
       "3    Female\n",
       "Name: Gender, dtype: object"
      ]
     },
     "execution_count": 29,
     "metadata": {},
     "output_type": "execute_result"
    }
   ],
   "source": [
    "df['Gender']"
   ]
  },
  {
   "cell_type": "code",
   "execution_count": 43,
   "metadata": {},
   "outputs": [
    {
     "data": {
      "text/html": [
       "<div>\n",
       "<style>\n",
       "    .dataframe thead tr:only-child th {\n",
       "        text-align: right;\n",
       "    }\n",
       "\n",
       "    .dataframe thead th {\n",
       "        text-align: left;\n",
       "    }\n",
       "\n",
       "    .dataframe tbody tr th {\n",
       "        vertical-align: top;\n",
       "    }\n",
       "</style>\n",
       "<table border=\"1\" class=\"dataframe\">\n",
       "  <thead>\n",
       "    <tr style=\"text-align: right;\">\n",
       "      <th></th>\n",
       "      <th>Names</th>\n",
       "      <th>Grades</th>\n",
       "      <th>Age</th>\n",
       "      <th>Gender</th>\n",
       "      <th>Origin</th>\n",
       "    </tr>\n",
       "  </thead>\n",
       "  <tbody>\n",
       "    <tr>\n",
       "      <th>3</th>\n",
       "      <td>Mary</td>\n",
       "      <td>94</td>\n",
       "      <td>47</td>\n",
       "      <td>Female</td>\n",
       "      <td>Albany</td>\n",
       "    </tr>\n",
       "  </tbody>\n",
       "</table>\n",
       "</div>"
      ],
      "text/plain": [
       "  Names  Grades  Age  Gender  Origin\n",
       "3  Mary      94   47  Female  Albany"
      ]
     },
     "execution_count": 43,
     "metadata": {},
     "output_type": "execute_result"
    }
   ],
   "source": [
    "df[3:]"
   ]
  },
  {
   "cell_type": "code",
   "execution_count": 41,
   "metadata": {},
   "outputs": [
    {
     "name": "stdout",
     "output_type": "stream",
     "text": [
      "  Names  Grades  Age  Gender  Origin\n",
      "3  Mary      94   47  Female  Albany\n"
     ]
    }
   ],
   "source": [
    "print(df.tail(1))"
   ]
  },
  {
   "cell_type": "code",
   "execution_count": 45,
   "metadata": {},
   "outputs": [
    {
     "data": {
      "text/plain": [
       "dtype('int64')"
      ]
     },
     "execution_count": 45,
     "metadata": {},
     "output_type": "execute_result"
    }
   ],
   "source": [
    "df['Age'].dtypes"
   ]
  },
  {
   "cell_type": "code",
   "execution_count": 46,
   "metadata": {},
   "outputs": [
    {
     "data": {
      "text/plain": [
       "RangeIndex(start=0, stop=4, step=1)"
      ]
     },
     "execution_count": 46,
     "metadata": {},
     "output_type": "execute_result"
    }
   ],
   "source": [
    "df.index"
   ]
  },
  {
   "cell_type": "code",
   "execution_count": 47,
   "metadata": {},
   "outputs": [
    {
     "data": {
      "text/html": [
       "<div>\n",
       "<style>\n",
       "    .dataframe thead tr:only-child th {\n",
       "        text-align: right;\n",
       "    }\n",
       "\n",
       "    .dataframe thead th {\n",
       "        text-align: left;\n",
       "    }\n",
       "\n",
       "    .dataframe tbody tr th {\n",
       "        vertical-align: top;\n",
       "    }\n",
       "</style>\n",
       "<table border=\"1\" class=\"dataframe\">\n",
       "  <thead>\n",
       "    <tr style=\"text-align: right;\">\n",
       "      <th></th>\n",
       "      <th>CLASS</th>\n",
       "      <th>AGE</th>\n",
       "      <th>SEX</th>\n",
       "      <th>SURVIVE</th>\n",
       "      <th>Unnamed: 4</th>\n",
       "      <th>CLASS.1</th>\n",
       "    </tr>\n",
       "  </thead>\n",
       "  <tbody>\n",
       "    <tr>\n",
       "      <th>0</th>\n",
       "      <td>1</td>\n",
       "      <td>1</td>\n",
       "      <td>1</td>\n",
       "      <td>1</td>\n",
       "      <td>NaN</td>\n",
       "      <td>0=crew</td>\n",
       "    </tr>\n",
       "    <tr>\n",
       "      <th>1</th>\n",
       "      <td>1</td>\n",
       "      <td>1</td>\n",
       "      <td>1</td>\n",
       "      <td>1</td>\n",
       "      <td>NaN</td>\n",
       "      <td>1=first</td>\n",
       "    </tr>\n",
       "  </tbody>\n",
       "</table>\n",
       "</div>"
      ],
      "text/plain": [
       "   CLASS  AGE  SEX  SURVIVE  Unnamed: 4       CLASS.1\n",
       "0      1    1    1        1         NaN        0=crew\n",
       "1      1    1    1        1         NaN       1=first"
      ]
     },
     "execution_count": 47,
     "metadata": {},
     "output_type": "execute_result"
    }
   ],
   "source": [
    "df2=p.read_excel('Desktop/Titanic.xls')\n",
    "df2.head(2)"
   ]
  },
  {
   "cell_type": "code",
   "execution_count": 50,
   "metadata": {},
   "outputs": [
    {
     "data": {
      "text/html": [
       "<div>\n",
       "<style>\n",
       "    .dataframe thead tr:only-child th {\n",
       "        text-align: right;\n",
       "    }\n",
       "\n",
       "    .dataframe thead th {\n",
       "        text-align: left;\n",
       "    }\n",
       "\n",
       "    .dataframe tbody tr th {\n",
       "        vertical-align: top;\n",
       "    }\n",
       "</style>\n",
       "<table border=\"1\" class=\"dataframe\">\n",
       "  <thead>\n",
       "    <tr style=\"text-align: right;\">\n",
       "      <th></th>\n",
       "      <th>PassengerId\tSurvived\tPclass\tName\tSex\tAge\tSibSp\tParch\tTicket\tFare\tCabin\tEmbarked</th>\n",
       "    </tr>\n",
       "  </thead>\n",
       "  <tbody>\n",
       "    <tr>\n",
       "      <th>152\\t1\\t1\\tPears</th>\n",
       "      <td>Mrs. Thomas (Edith Wearne)\\tfemale\\t22\\t1\\t0\\...</td>\n",
       "    </tr>\n",
       "    <tr>\n",
       "      <th>153\\t0\\t3\\tMeo</th>\n",
       "      <td>Mr. Alfonzo\\tmale\\t55.5\\t0\\t0\\tA.5. 11206\\t8....</td>\n",
       "    </tr>\n",
       "    <tr>\n",
       "      <th>154\\t0\\t3\\tvan Billiard</th>\n",
       "      <td>Mr. Austin Blyler\\tmale\\t40.5\\t0\\t2\\tA/5. 851...</td>\n",
       "    </tr>\n",
       "    <tr>\n",
       "      <th>155\\t0\\t3\\tOlsen</th>\n",
       "      <td>Mr. Ole Martin\\tmale\\t\\t0\\t0\\tFa 265302\\t7.31...</td>\n",
       "    </tr>\n",
       "    <tr>\n",
       "      <th>156\\t0\\t1\\tWilliams</th>\n",
       "      <td>Mr. Charles Duane\\tmale\\t51\\t0\\t1\\tPC 17597\\t...</td>\n",
       "    </tr>\n",
       "  </tbody>\n",
       "</table>\n",
       "</div>"
      ],
      "text/plain": [
       "                        PassengerId\\tSurvived\\tPclass\\tName\\tSex\\tAge\\tSibSp\\tParch\\tTicket\\tFare\\tCabin\\tEmbarked\n",
       "152\\t1\\t1\\tPears          Mrs. Thomas (Edith Wearne)\\tfemale\\t22\\t1\\t0\\...                                        \n",
       "153\\t0\\t3\\tMeo            Mr. Alfonzo\\tmale\\t55.5\\t0\\t0\\tA.5. 11206\\t8....                                        \n",
       "154\\t0\\t3\\tvan Billiard   Mr. Austin Blyler\\tmale\\t40.5\\t0\\t2\\tA/5. 851...                                        \n",
       "155\\t0\\t3\\tOlsen          Mr. Ole Martin\\tmale\\t\\t0\\t0\\tFa 265302\\t7.31...                                        \n",
       "156\\t0\\t1\\tWilliams       Mr. Charles Duane\\tmale\\t51\\t0\\t1\\tPC 17597\\t...                                        "
      ]
     },
     "execution_count": 50,
     "metadata": {},
     "output_type": "execute_result"
    }
   ],
   "source": [
    "df3=p.read_csv('Desktop/Titanic.csv')\n",
    "df3.tail(5)"
   ]
  },
  {
   "cell_type": "code",
   "execution_count": null,
   "metadata": {
    "collapsed": true
   },
   "outputs": [],
   "source": []
  }
 ],
 "metadata": {
  "kernelspec": {
   "display_name": "Python 3",
   "language": "python",
   "name": "python3"
  },
  "language_info": {
   "codemirror_mode": {
    "name": "ipython",
    "version": 3
   },
   "file_extension": ".py",
   "mimetype": "text/x-python",
   "name": "python",
   "nbconvert_exporter": "python",
   "pygments_lexer": "ipython3",
   "version": "3.6.3"
  }
 },
 "nbformat": 4,
 "nbformat_minor": 2
}
